{
  "nbformat": 4,
  "nbformat_minor": 0,
  "metadata": {
    "colab": {
      "provenance": [],
      "authorship_tag": "ABX9TyN1ZDAvR1fpZoVd1jMBqv3j",
      "include_colab_link": true
    },
    "kernelspec": {
      "name": "python3",
      "display_name": "Python 3"
    },
    "language_info": {
      "name": "python"
    }
  },
  "cells": [
    {
      "cell_type": "markdown",
      "metadata": {
        "id": "view-in-github",
        "colab_type": "text"
      },
      "source": [
        "<a href=\"https://colab.research.google.com/github/AndreChirva/Creating-functionality-by-courier-order-plpgsql/blob/main/Untitled7.ipynb\" target=\"_parent\"><img src=\"https://colab.research.google.com/assets/colab-badge.svg\" alt=\"Open In Colab\"/></a>"
      ]
    },
    {
      "cell_type": "code",
      "execution_count": null,
      "metadata": {
        "id": "sNpglnsiTq4k"
      },
      "outputs": [],
      "source": [
        "#Вам нужно помочь секретарю автоматизировать работу. Для этого нужно написать программу, которая будет на основе хранимых данных исполнять пользовательские команды.\n",
        "\n",
        "documents = [\n",
        "    {'type': 'passport', 'number': '2207 876234', 'name': 'Василий Гупкин'},\n",
        "    {'type': 'invoice', 'number': '11-2', 'name': 'Геннадий Покемонов'},\n",
        "    {'type': 'insurance', 'number': '10006', 'name': 'Аристарх Павлов'}\n",
        "]\n",
        "directories = {\n",
        "    '1': ['2207 876234', '11-2'],\n",
        "    '2': ['10006'],\n",
        "    '3': []\n",
        "}\n",
        "\n",
        "def document_owner():\n",
        "  number_doc = input('Введите номер документа:\\n')\n",
        "  for row in documents:\n",
        "    if row['number'] == number_doc:\n",
        "      name = row['name']\n",
        "      print(f'Владелец документа: {name}')\n",
        "      break\n",
        "  else:\n",
        "      print('Документ не найден в базе')\n"
      ]
    },
    {
      "cell_type": "code",
      "source": [
        "\n",
        "def number_shelf():\n",
        "  number_doc = input('Введите номер документа:\\n')\n",
        "  for item, value in directories.items():\n",
        "    if number_doc in value:\n",
        "      print(f'Документ хранится на полке: {item}')\n",
        "      break\n",
        "  else:\n",
        "    print('Документ не найден в базе')\n"
      ],
      "metadata": {
        "id": "Pu9dbe98UzZ9"
      },
      "execution_count": null,
      "outputs": []
    },
    {
      "cell_type": "code",
      "source": [
        "def information_documents():\n",
        "  for information in documents:\n",
        "    for item, value in directories.items():\n",
        "      if information['number'] in value:\n",
        "       inf = information['number']\n",
        "       type_ = information['type']\n",
        "       name = information['name']\n",
        "       print(f'№: {inf}, тип: {type_}, владелец: {name}, полка хранения: {item}')\n"
      ],
      "metadata": {
        "id": "QWOkBZE3WvoY"
      },
      "execution_count": null,
      "outputs": []
    },
    {
      "cell_type": "code",
      "source": [
        "def list_shelf():\n",
        "  list_shelf = ''\n",
        "  for item, value in directories.items():\n",
        "    list_shelf = list_shelf + item + ','\n",
        "  list_shelf = list_shelf[:-1] + '.'\n",
        "  return list_shelf\n",
        "print(list_shelf())"
      ],
      "metadata": {
        "colab": {
          "base_uri": "https://localhost:8080/"
        },
        "id": "0Et5SzuBZWrL",
        "outputId": "374bb06e-1053-4f68-92c8-b2d9a6b68bef"
      },
      "execution_count": null,
      "outputs": [
        {
          "output_type": "stream",
          "name": "stdout",
          "text": [
            "1,2,3.\n"
          ]
        }
      ]
    },
    {
      "cell_type": "code",
      "source": [
        "def adding_shelf():\n",
        "  shelf = input('Введите номер полки:\\n')\n",
        "  if shelf in directories.keys():\n",
        "   print(f'Такая полка уже существует. Текущий перечень полок: {list_shelf()}')\n",
        "  else:\n",
        "    directories[shelf] = []\n",
        "    print(f'Полка добавлена. Текущий перечень полок:  {list_shelf()}')\n",
        "\n",
        "\n"
      ],
      "metadata": {
        "id": "7LSyBmieJIvl"
      },
      "execution_count": null,
      "outputs": []
    },
    {
      "cell_type": "code",
      "source": [
        "def delete_shelf():\n",
        " shelf = input('Введите номер полки:\\n')\n",
        " if shelf  in directories.keys() and directories[shelf] != []:\n",
        "  print(f'На полке есть документа, удалите их перед удалением полки. Текущий перечень полок: {list_shelf()}')\n",
        " elif shelf  in directories.keys() and directories[shelf] == []:\n",
        "   del directories[shelf]\n",
        "   print(f'Полка удалена. Текущий перечень полок: {list_shelf()}')\n",
        " else:\n",
        "    print(f'Такой полки не существует. Текущий перечень полок: {list_shelf()}')\n",
        "\n",
        "\n",
        "\n",
        "\n",
        "\n"
      ],
      "metadata": {
        "id": "BeBGOlAKMLoy"
      },
      "execution_count": null,
      "outputs": []
    },
    {
      "cell_type": "code",
      "source": [
        "def adding_documents():\n",
        "  shelf = input('Введите полку для хранения:\\n')\n",
        "  if shelf in directories:\n",
        "    number_doc = input('Введите номер документа:\\n')\n",
        "    type_doc = input('Введите тип документа:\\n')\n",
        "    name_doc = input('Введите владельца документа:\\n')\n",
        "    documents.append(dict(type = type_doc, number = number_doc, name = name_doc ))\n",
        "    for item, value in directories.items():\n",
        "      if shelf == item:\n",
        "        directories[item] += [number_doc]\n",
        "        print('Документ добавлен. Текущий список документов:')\n",
        "        l()\n",
        "  else:\n",
        "    print('Такой полки не существует. Добавьте полку командой as.\\nТекущий список документов:')\n",
        "    l()\n"
      ],
      "metadata": {
        "id": "fNwDRGFs5BuG"
      },
      "execution_count": null,
      "outputs": []
    },
    {
      "cell_type": "code",
      "source": [
        "def delete_documents():\n",
        " number_doc = input('Введите номер документа:\\n')\n",
        " del_ = 0\n",
        " for doc in documents:\n",
        "  if number_doc == doc['number']:\n",
        "    index_ = documents.index(doc)\n",
        "    del_ = 1\n",
        "  if del_ == 1:\n",
        "   del documents[index_]\n",
        "   print(f'Документ удален. \\nТекущий список документов:')\n",
        "   information_documents()\n",
        "   break\n",
        " else:\n",
        "    print('Документ не найден в базе. \\nТекущий список документов:')\n",
        "    information_documents()\n",
        " for item, value in directories.items():\n",
        "    if number_doc in value:\n",
        "      value.remove(number_doc)\n",
        "\n",
        "\n",
        "\n",
        "\n",
        "\n",
        "\n",
        "\n",
        "\n",
        "\n",
        "\n",
        "\n",
        "\n"
      ],
      "metadata": {
        "id": "MEMfK1Oj-nnf"
      },
      "execution_count": null,
      "outputs": []
    },
    {
      "cell_type": "code",
      "source": [
        "def moving_document():\n",
        " number_doc = input('Введите номер документа:\\n')\n",
        " number_shelf = input('Введите номер полки:\\n')\n",
        " key_ = list(directories.keys())\n",
        " list_ = []\n",
        " for doc in documents:\n",
        "   list_.append(doc['number'])\n",
        " if number_doc in list_:\n",
        "  if number_shelf in key_:\n",
        "    for item, value in directories.items():\n",
        "      if number_doc in value:\n",
        "        value.remove(number_doc)\n",
        "    directories[number_shelf] += [number_doc]\n",
        "    print('Документ перемещен.\\nТекущий список документов:')\n",
        "    information_documents()\n",
        "  else:\n",
        "      print(f'Такой полки не существует. Текущий перечень полок: {list_shelf()}')\n",
        " else:\n",
        "           print(f'Документ не найден в базе.\\nТекущий список документов:')\n",
        "           information_documents()\n",
        "\n",
        "\n",
        "\n",
        "\n",
        "\n",
        "\n"
      ],
      "metadata": {
        "id": "qvAikCBKE3hZ"
      },
      "execution_count": null,
      "outputs": []
    },
    {
      "cell_type": "code",
      "source": [
        "def main():\n",
        "  a = 0\n",
        "  while a < 1:\n",
        "    command_input=input('Введите команду:\\n')\n",
        "    if command_input == 'p':\n",
        "       document_owner()\n",
        "    elif command_input == 's':\n",
        "      number_shelf()\n",
        "    elif command_input == 'l':\n",
        "      information_documents()\n",
        "    elif command_input == 'ads':\n",
        "      adding_shelf()\n",
        "    elif command_input == 'ds':\n",
        "      delete_shelf()\n",
        "    elif command_input == 'ad':\n",
        "      adding_documents()\n",
        "    elif command_input == 'd':\n",
        "      delete_documents()\n",
        "    elif command_input == 'm':\n",
        "      moving_document()\n",
        "    elif  command_input == 'q':\n",
        "      break\n",
        "    else:\n",
        "      print('Нет такой команды')\n",
        "print(main())\n",
        "\n",
        "\n"
      ],
      "metadata": {
        "colab": {
          "base_uri": "https://localhost:8080/"
        },
        "id": "xm35uEy6NlwW",
        "outputId": "23ab5668-613b-46e5-9aca-b8006cc0c438"
      },
      "execution_count": null,
      "outputs": [
        {
          "output_type": "stream",
          "name": "stdout",
          "text": [
            "Введите команду:\n",
            "q\n",
            "None\n"
          ]
        }
      ]
    }
  ]
}